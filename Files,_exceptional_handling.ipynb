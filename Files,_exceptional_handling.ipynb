{
  "nbformat": 4,
  "nbformat_minor": 0,
  "metadata": {
    "colab": {
      "provenance": []
    },
    "kernelspec": {
      "name": "python3",
      "display_name": "Python 3"
    },
    "language_info": {
      "name": "python"
    }
  },
  "cells": [
    {
      "cell_type": "markdown",
      "source": [
        "## ***THEORY QUESTIONS***\n",
        "\n",
        "---\n",
        "\n"
      ],
      "metadata": {
        "id": "I3Hr7emyGjdJ"
      }
    },
    {
      "cell_type": "markdown",
      "source": [
        "**1. Difference between interpreted and compiled languages:**\n",
        "\n",
        "\n",
        "Interpreted: Runs line-by-line (e.g., Python)\n",
        "\n",
        "Compiled: Translates whole code to machine code first (e.g., C++)\n",
        " Python = Interpreted → easier debugging\n",
        "\n"
      ],
      "metadata": {
        "id": "QphWuUmcGjx0"
      }
    },
    {
      "cell_type": "markdown",
      "source": [
        "**2. What is exception handling in Python?**\n",
        "It is a way to manage runtime errors to prevent crashes using try, except, finally.\n",
        "\n",
        "**3. What is the purpose of the finally block in exception handling**\n",
        "\n",
        "Always executes whether there's an exception or not — useful for cleanup like closing files."
      ],
      "metadata": {
        "id": "A7ED7ScAGjzX"
      }
    },
    {
      "cell_type": "markdown",
      "source": [
        "**4. What is logging in Python?**\n",
        "\n",
        "Logging records messages during code execution — helps in debugging and tracking.\n",
        "\n",
        "**5. What is the significance of the __del__ method in Python **bold text**\n",
        "\n",
        "It’s a destructor called when an object is about to be deleted, used to release resources.\n",
        "\n",
        "**6. What is the difference between import and from ... import in Python**\n",
        "\n",
        "\n",
        "\n",
        "import math → access with math.sqrt()\n",
        "\n",
        "from math import sqrt → access with sqrt() directly\n",
        "\n",
        "**7. How to handle multiple exceptions:**\n",
        "\n",
        "Use multiple except blocks or a tuple:\n",
        "\n",
        "\n"
      ],
      "metadata": {
        "id": "-NlKZnk4Gj2z"
      }
    },
    {
      "cell_type": "code",
      "source": [
        "try:\n",
        "    # risky code\n",
        "except (ValueError, TypeError):\n",
        "    print(\"Handled both exceptions\")\n"
      ],
      "metadata": {
        "colab": {
          "base_uri": "https://localhost:8080/",
          "height": 106
        },
        "id": "EqOWkcVkIlYx",
        "outputId": "8582dbb7-de8e-4400-f67a-24e8737f6d1d"
      },
      "execution_count": 1,
      "outputs": [
        {
          "output_type": "error",
          "ename": "IndentationError",
          "evalue": "expected an indented block after 'try' statement on line 1 (ipython-input-1-3146177875.py, line 3)",
          "traceback": [
            "\u001b[0;36m  File \u001b[0;32m\"/tmp/ipython-input-1-3146177875.py\"\u001b[0;36m, line \u001b[0;32m3\u001b[0m\n\u001b[0;31m    except (ValueError, TypeError):\u001b[0m\n\u001b[0m    ^\u001b[0m\n\u001b[0;31mIndentationError\u001b[0m\u001b[0;31m:\u001b[0m expected an indented block after 'try' statement on line 1\n"
          ]
        }
      ]
    },
    {
      "cell_type": "markdown",
      "source": [
        "***8.*** **What is the purpose of the with statement when handling files in Python**\n",
        "Automatically closes files → cleaner and safer file handling.\n"
      ],
      "metadata": {
        "id": "B3uubyZjGkLh"
      }
    },
    {
      "cell_type": "code",
      "source": [
        "with open(\"data.txt\") as f:\n",
        "    content = f.read()\n"
      ],
      "metadata": {
        "id": "rpLrqwGaKlhC"
      },
      "execution_count": null,
      "outputs": []
    },
    {
      "cell_type": "markdown",
      "source": [
        "**9. What is the difference between multithreading and multiprocessing**\n",
        "Multithreading: Multiple tasks in same memory space\n",
        "\n",
        "Multiprocessing: Multiple processes in separate memory\n",
        "Useful: threads for I/O, processes for CPU-heavy work"
      ],
      "metadata": {
        "id": "fvzKCkjTGkOT"
      }
    },
    {
      "cell_type": "markdown",
      "source": [
        "**10. What are the advantages of using logging in a program**\n",
        "Tracks flow\n",
        "\n",
        "Catches bugs\n",
        "\n",
        "Maintains historical logs\n",
        "More professional than print()\n",
        "\n",
        "\n"
      ],
      "metadata": {
        "id": "_SrHQ-kYGkRL"
      }
    },
    {
      "cell_type": "markdown",
      "source": [
        "**11. What is memory management in Python**\n",
        "It includes automatic allocation & deallocation using reference counting and garbage collection\n"
      ],
      "metadata": {
        "id": "UYUNcdrJGkar"
      }
    },
    {
      "cell_type": "markdown",
      "source": [
        "**12. What are the basic steps involved in exception handling in Python.**\n",
        "try: write risky code\n",
        "\n",
        "except: handle the error\n",
        "\n",
        "else: if no error\n",
        "\n",
        "finally: always runs\n"
      ],
      "metadata": {
        "id": "waO897j9GkcZ"
      }
    },
    {
      "cell_type": "markdown",
      "source": [
        "**13.Why is memory management important in Python**\n",
        "Prevents memory leaks, improves performance, and ensures system stability.\n",
        "\n",
        "\n"
      ],
      "metadata": {
        "id": "dN9g7gNFGkd_"
      }
    },
    {
      "cell_type": "markdown",
      "source": [
        "**14. What is the role of try and except in exception handling**\n",
        "try: tests code\n",
        "\n",
        "except: handles any exception, preventing program crash\n",
        "\n",
        "\n"
      ],
      "metadata": {
        "id": "0uANReg3Gkft"
      }
    },
    {
      "cell_type": "markdown",
      "source": [
        "**15. How does Python's garbage collection system work**\n",
        "Uses reference counting and gc module to clean unused objects automatically.\n"
      ],
      "metadata": {
        "id": "kigEWJQPGkhx"
      }
    },
    {
      "cell_type": "markdown",
      "source": [
        "**16. What is the purpose of the else block in exception handling**\n",
        "Runs only if no exceptions occur in the try block — improves clarity.\n"
      ],
      "metadata": {
        "id": "zeE6fKFuJo9C"
      }
    },
    {
      "cell_type": "markdown",
      "source": [
        "**17. What are the common logging levels in Python**\n",
        "DEBUG\n",
        "\n",
        "INFO\n",
        "\n",
        "WARNING\n",
        "\n",
        "ERROR\n",
        "\n",
        "CRITICAL"
      ],
      "metadata": {
        "id": "GdTl3yqwJvvp"
      }
    },
    {
      "cell_type": "markdown",
      "source": [
        "**18. What is the difference between os.fork() and multiprocessing in Python**\n",
        "os.fork() (Unix-only): lower-level process creation\n",
        "\n",
        "multiprocessing: cross-platform and Pythonic"
      ],
      "metadata": {
        "id": "soFr-wwNJvsx"
      }
    },
    {
      "cell_type": "markdown",
      "source": [
        "**19. What is the importance of closing a file in Python**\n",
        "Frees memory, prevents data corruption or locking issues.\n",
        "\n"
      ],
      "metadata": {
        "id": "ba9bPr82Jvpz"
      }
    },
    {
      "cell_type": "markdown",
      "source": [
        "**20.What is the difference between file.read() and file.readline() in Python**\n",
        "read() → entire file\n",
        "\n",
        "readline() → one line at a time\n"
      ],
      "metadata": {
        "id": "XfAcUJKnJvbv"
      }
    },
    {
      "cell_type": "markdown",
      "source": [
        "**21. What is the logging module in Python used for**\n",
        "Captures and stores logs, errors, and status messages to files or console."
      ],
      "metadata": {
        "id": "GPEZow_dJvYx"
      }
    },
    {
      "cell_type": "code",
      "source": [
        "import logging\n",
        "logging.warning(\"This is a warning\")\n"
      ],
      "metadata": {
        "id": "WaPkkuc7MPMn"
      },
      "execution_count": null,
      "outputs": []
    },
    {
      "cell_type": "markdown",
      "source": [
        "**22.What is the os module in Python used for in file handling**\n",
        "Used to interact with the OS — like renaming, deleting, or checking files.\n",
        "\n"
      ],
      "metadata": {
        "id": "XJoGt244JvNS"
      }
    },
    {
      "cell_type": "markdown",
      "source": [
        "**23. What are the challenges associated with memory management in Python**\n",
        "Circular references\n",
        "\n",
        "Memory leaks due to unused objects\n",
        "\n",
        "Manual handling in large programs"
      ],
      "metadata": {
        "id": "raJogDX2JvKr"
      }
    },
    {
      "cell_type": "markdown",
      "source": [
        "**24. How do you raise an exception manually in Python**\n"
      ],
      "metadata": {
        "id": "tngwVVAGJvHw"
      }
    },
    {
      "cell_type": "code",
      "source": [
        "raise ValueError(\"Invalid input\")\n"
      ],
      "metadata": {
        "id": "T4pDm6-tMdXi"
      },
      "execution_count": null,
      "outputs": []
    },
    {
      "cell_type": "markdown",
      "source": [
        "**25.Why is it important to use multithreading in certain applications?**\n",
        "For I/O tasks\n",
        "\n",
        "Keeps apps responsive\n",
        "Not for CPU-heavy tasks due to Python's GIL"
      ],
      "metadata": {
        "id": "0FoCY9C8JvFJ"
      }
    },
    {
      "cell_type": "markdown",
      "source": [],
      "metadata": {
        "id": "Y53Hsd6pMnYe"
      }
    },
    {
      "cell_type": "markdown",
      "source": [
        "## **Practical Questions**\n",
        "\n",
        "---\n",
        "\n"
      ],
      "metadata": {
        "id": "2jpL1cL0Mnwd"
      }
    },
    {
      "cell_type": "code",
      "source": [
        "#1. How can you open a file for writing in Python and write a string to it?\n",
        "with open(\"myfile.txt\", \"w\") as file:\n",
        "    file.write(\"Hello, I am writing this using Python!\")"
      ],
      "metadata": {
        "id": "9gN-p-IGMxWu"
      },
      "execution_count": 7,
      "outputs": []
    },
    {
      "cell_type": "code",
      "source": [
        "#2. Write a Python program to read the contents of a file and print each line.\n",
        "with open(\"myfile.txt\", \"r\") as file:\n",
        "    for line in file:\n",
        "        print(line.strip())"
      ],
      "metadata": {
        "colab": {
          "base_uri": "https://localhost:8080/"
        },
        "id": "wTM6vRkKMxlv",
        "outputId": "aede3a72-60c5-4eec-801e-2956f630ab1b"
      },
      "execution_count": 5,
      "outputs": [
        {
          "output_type": "stream",
          "name": "stdout",
          "text": [
            "Hello, I am writing this using Python!\n"
          ]
        }
      ]
    },
    {
      "cell_type": "code",
      "source": [
        "#3. How would you handle a case where the file doesn't exist while trying to open it for reading?\n",
        "try:\n",
        "    with open(\"nofile.txt\", \"r\") as file:\n",
        "        print(file.read())\n",
        "except FileNotFoundError:\n",
        "    print(\"File not found. Please check the filename.\")"
      ],
      "metadata": {
        "colab": {
          "base_uri": "https://localhost:8080/"
        },
        "id": "RLAAdKmvMxqX",
        "outputId": "328a900e-320f-492b-b97e-eeb1192a2157"
      },
      "execution_count": 8,
      "outputs": [
        {
          "output_type": "stream",
          "name": "stdout",
          "text": [
            "File not found. Please check the filename.\n"
          ]
        }
      ]
    },
    {
      "cell_type": "code",
      "source": [
        "#4. Write a Python script that reads from one file and writes its content to another file.\n",
        "# Create a dummy source file for the next cell\n",
        "with open(\"source.txt\", \"w\") as f:\n",
        "    f.write(\"This is the first line.\\n\")\n",
        "    f.write(\"This is the second line.\\n\")"
      ],
      "metadata": {
        "id": "GfgrSVg1MxuP"
      },
      "execution_count": 12,
      "outputs": []
    },
    {
      "cell_type": "code",
      "source": [
        "#5. How would you catch and handle division by zero error in Python?\n",
        "\n",
        "try:\n",
        "    result = 10 / 0\n",
        "except ZeroDivisionError:\n",
        "    print(\"You can't divide by zero!\")"
      ],
      "metadata": {
        "colab": {
          "base_uri": "https://localhost:8080/"
        },
        "id": "ye_rMfFDN0Iv",
        "outputId": "52296b5f-66ef-4313-9461-e437e5af3d5b"
      },
      "execution_count": 13,
      "outputs": [
        {
          "output_type": "stream",
          "name": "stdout",
          "text": [
            "You can't divide by zero!\n"
          ]
        }
      ]
    },
    {
      "cell_type": "code",
      "source": [
        "#6. Write a Python program that logs an error message to a log file when a division by zero exception occurs.\n",
        "\n",
        "import logging\n",
        "\n",
        "logging.basicConfig(filename=\"error.log\", level=logging.ERROR)\n",
        "\n",
        "try:\n",
        "    result = 5 / 0\n",
        "except ZeroDivisionError as e:\n",
        "    logging.error(\"Division by zero occurred: %s\", e)"
      ],
      "metadata": {
        "colab": {
          "base_uri": "https://localhost:8080/"
        },
        "id": "gGd08rO0N0f1",
        "outputId": "2433f1a8-e08b-416b-9a44-603da5cc7b04"
      },
      "execution_count": 15,
      "outputs": [
        {
          "output_type": "stream",
          "name": "stderr",
          "text": [
            "ERROR:root:Division by zero occurred: division by zero\n"
          ]
        }
      ]
    },
    {
      "cell_type": "code",
      "source": [
        "#7. How do you log information at different levels (INFO, ERROR, WARNING) in Python using the logging module?\n",
        "import logging\n",
        "\n",
        "logging.basicConfig(level=logging.DEBUG)\n",
        "logging.info(\"This is an info message.\")\n",
        "logging.warning(\"This is a warning message.\")\n",
        "logging.error(\"This is an error message.\")\n"
      ],
      "metadata": {
        "colab": {
          "base_uri": "https://localhost:8080/"
        },
        "id": "q45FmN3FN0nL",
        "outputId": "798b96d1-48e2-404a-b085-bdb9ebefe933"
      },
      "execution_count": 16,
      "outputs": [
        {
          "output_type": "stream",
          "name": "stderr",
          "text": [
            "WARNING:root:This is a warning message.\n",
            "ERROR:root:This is an error message.\n"
          ]
        }
      ]
    },
    {
      "cell_type": "code",
      "source": [
        "#8. Write a program to handle a file opening error using exception handling.\n",
        "\n",
        "try:\n",
        "    with open(\"data.txt\", \"r\") as file:\n",
        "        print(file.read())\n",
        "except Exception as e:\n",
        "    print(\"An error occurred:\", e)"
      ],
      "metadata": {
        "id": "kMMJgQZgN0rn"
      },
      "execution_count": null,
      "outputs": []
    },
    {
      "cell_type": "code",
      "source": [
        "#9. How can you read a file line by line and store its content in a list in Python?\n",
        "\n",
        "with open(\"myfile.txt\", \"r\") as file:\n",
        "    lines = file.readlines()\n",
        "print(lines)"
      ],
      "metadata": {
        "id": "LR5TZ3FlN0vj"
      },
      "execution_count": null,
      "outputs": []
    },
    {
      "cell_type": "code",
      "source": [
        "#10. How can you append data to an existing file in Python?\n",
        "\n",
        "with open(\"myfile.txt\", \"a\") as file:\n",
        "    file.write(\"\\nThis is an appended line.\")\n"
      ],
      "metadata": {
        "id": "_4qB41qBN0zc"
      },
      "execution_count": null,
      "outputs": []
    },
    {
      "cell_type": "code",
      "source": [
        "#11. Write a Python program that uses a try-except block to handle an error when attempting to access a dictionary key that doesn't exist.\n",
        "\n",
        "try:\n",
        "    data = {\"name\": \"Dhanush\"}\n",
        "    print(data[\"age\"])\n",
        "except KeyError:\n",
        "    print(\"Key not found in dictionary.\")"
      ],
      "metadata": {
        "id": "-x6GMh17N03H"
      },
      "execution_count": null,
      "outputs": []
    },
    {
      "cell_type": "code",
      "source": [
        "#12. Write a program that demonstrates using multiple except blocks to handle different types of exceptions.\n",
        "\n",
        "try:\n",
        "    x = int(\"hello\")\n",
        "    y = 5 / 0\n",
        "except ValueError:\n",
        "    print(\"Value error occurred.\")\n",
        "except ZeroDivisionError:\n",
        "    print(\"Division by zero error.\")"
      ],
      "metadata": {
        "id": "lslgUpTsN09E"
      },
      "execution_count": null,
      "outputs": []
    },
    {
      "cell_type": "code",
      "source": [
        "#13. How would you check if a file exists before attempting to read it in Python?\n",
        "\n",
        "import os\n",
        "\n",
        "if os.path.exists(\"myfile.txt\"):\n",
        "    print(\"File exists!\")\n",
        "else:\n",
        "    print(\"File not found.\")"
      ],
      "metadata": {
        "colab": {
          "base_uri": "https://localhost:8080/"
        },
        "id": "NLATEUf1N1DJ",
        "outputId": "e617fbb7-d225-43c3-db5e-e40baaa78336"
      },
      "execution_count": 17,
      "outputs": [
        {
          "output_type": "stream",
          "name": "stdout",
          "text": [
            "File exists!\n"
          ]
        }
      ]
    },
    {
      "cell_type": "code",
      "source": [
        "#14. Write a program that uses the logging module to log both informational and error messages.\n",
        "import logging\n",
        "\n",
        "logging.basicConfig(filename=\"logfile.log\", level=logging.DEBUG)\n",
        "logging.info(\"Program started successfully.\")\n",
        "try:\n",
        "    1 / 0\n",
        "except ZeroDivisionError:\n",
        "    logging.error(\"Division by zero encountered.\")\n"
      ],
      "metadata": {
        "colab": {
          "base_uri": "https://localhost:8080/"
        },
        "id": "n7YxGhIcN1Hm",
        "outputId": "8e14b419-b6bf-4029-ae50-f4326c3af71a"
      },
      "execution_count": 20,
      "outputs": [
        {
          "output_type": "stream",
          "name": "stderr",
          "text": [
            "ERROR:root:Division by zero encountered.\n"
          ]
        }
      ]
    },
    {
      "cell_type": "code",
      "source": [
        "#15. Write a Python program that prints the content of a file and handles the case when the file is empty.\n",
        "\n",
        "with open(\"myfile.txt\", \"r\") as file:\n",
        "    content = file.read()\n",
        "    if content:\n",
        "        print(content)\n",
        "    else:\n",
        "        print(\"File is empty.\")"
      ],
      "metadata": {
        "colab": {
          "base_uri": "https://localhost:8080/"
        },
        "id": "0kbvJkcPN1LP",
        "outputId": "b69feed1-9053-4923-df53-19f129fe8cf0"
      },
      "execution_count": 19,
      "outputs": [
        {
          "output_type": "stream",
          "name": "stdout",
          "text": [
            "Hello, I am writing this using Python!\n"
          ]
        }
      ]
    },
    {
      "cell_type": "code",
      "source": [
        "#16. Demonstrate how to use memory profiling to check the memory usage of a small program.\n",
        "\n",
        "%load_ext memory_profiler\n",
        "\n",
        "%%memit\n",
        "data = [i for i in range(10000)]\n",
        "sum(data)"
      ],
      "metadata": {
        "colab": {
          "base_uri": "https://localhost:8080/"
        },
        "id": "OFfPiH5eN1PZ",
        "outputId": "72eb7e13-a6c2-4a33-a2c4-0e097844760c"
      },
      "execution_count": 26,
      "outputs": [
        {
          "output_type": "stream",
          "name": "stdout",
          "text": [
            "The memory_profiler extension is already loaded. To reload it, use:\n",
            "  %reload_ext memory_profiler\n"
          ]
        },
        {
          "output_type": "stream",
          "name": "stderr",
          "text": [
            "UsageError: Line magic function `%%memit` not found.\n"
          ]
        }
      ]
    },
    {
      "cell_type": "code",
      "source": [
        "#17. Write a Python program to create and write a list of numbers to a file, one number per line.\n",
        "numbers = [1, 2, 3, 4, 5]\n",
        "with open(\"numbers.txt\", \"w\") as file:\n",
        "    for number in numbers:\n",
        "        file.write(f\"{number}\\n\")"
      ],
      "metadata": {
        "id": "c9WU34BRN1UK"
      },
      "execution_count": 28,
      "outputs": []
    },
    {
      "cell_type": "code",
      "source": [
        "#18. How would you implement a basic logging setup that logs to a file with rotation after 1MB?\n",
        "\n",
        "import logging\n",
        "from logging.handlers import RotatingFileHandler\n",
        "\n",
        "handler = RotatingFileHandler(\"rotating.log\", maxBytes=1024*1024, backupCount=2)\n",
        "logger = logging.getLogger(\"MyLogger\")\n",
        "logger.setLevel(logging.INFO)\n",
        "logger.addHandler(handler)\n",
        "\n",
        "logger.info(\"This is a log message with rotation.\")"
      ],
      "metadata": {
        "colab": {
          "base_uri": "https://localhost:8080/"
        },
        "id": "w7vAm-OKN1Xu",
        "outputId": "d1f75a56-0c7a-4cf8-f6a1-111d05a38f85"
      },
      "execution_count": 29,
      "outputs": [
        {
          "output_type": "stream",
          "name": "stderr",
          "text": [
            "INFO:MyLogger:This is a log message with rotation.\n"
          ]
        }
      ]
    },
    {
      "cell_type": "code",
      "source": [
        "#19. Write a program that handles both IndexError and KeyError using a try-except block.\n",
        "\n",
        "try:\n",
        "    my_list = [1, 2]\n",
        "    print(my_list[5])\n",
        "    my_dict = {\"a\": 1}\n",
        "    print(my_dict[\"b\"])\n",
        "except IndexError:\n",
        "    print(\"Index error occurred.\")\n",
        "except KeyError:\n",
        "    print(\"Key error occurred.\")"
      ],
      "metadata": {
        "colab": {
          "base_uri": "https://localhost:8080/"
        },
        "id": "oYHOzWGxN1dJ",
        "outputId": "a7d53d97-c36c-48b5-d477-76ce65ad80dd"
      },
      "execution_count": 30,
      "outputs": [
        {
          "output_type": "stream",
          "name": "stdout",
          "text": [
            "Index error occurred.\n"
          ]
        }
      ]
    },
    {
      "cell_type": "code",
      "source": [
        "#20. How would you open a file and read its contents using a context manager in Python?\n",
        "# Create a dummy file for the next cell\n",
        "with open(\"example.txt\", \"w\") as f:\n",
        "    f.write(\"This is an example file.\\n\")\n",
        "    f.write(\"This is the second line.\")"
      ],
      "metadata": {
        "id": "A19-xOTDPvJs"
      },
      "execution_count": 33,
      "outputs": []
    },
    {
      "cell_type": "code",
      "source": [
        "#21. Write a Python program that reads a file and prints the number of occurrences of a specific word.\n",
        "# Create a dummy sample file for the next cell\n",
        "with open(\"sample.txt\", \"w\") as f:\n",
        "    f.write(\"This is a sample file with some python and Python words.\")"
      ],
      "metadata": {
        "id": "lI3p75alPvnd"
      },
      "execution_count": 36,
      "outputs": []
    },
    {
      "cell_type": "code",
      "source": [
        "#22. How can you check if a file is empty before attempting to read its contents?\n",
        "import os\n",
        "\n",
        "if os.path.exists(\"check.txt\") and os.stat(\"check.txt\").st_size == 0:\n",
        "    print(\"File is empty.\")\n",
        "else:\n",
        "    print(\"File has content.\")"
      ],
      "metadata": {
        "colab": {
          "base_uri": "https://localhost:8080/"
        },
        "id": "8m2SEaBbQmj6",
        "outputId": "84a69178-2836-4c01-a9f1-30ce489423f0"
      },
      "execution_count": 37,
      "outputs": [
        {
          "output_type": "stream",
          "name": "stdout",
          "text": [
            "File has content.\n"
          ]
        }
      ]
    },
    {
      "cell_type": "code",
      "source": [
        "#23. Write a Python program that writes to a log file when an error occurs during file handling.\n",
        "\n",
        "import logging\n",
        "\n",
        "logging.basicConfig(filename=\"file_error.log\", level=logging.ERROR)\n",
        "\n",
        "try:\n",
        "    with open(\"nofile.txt\", \"r\") as file:\n",
        "        content = file.read()\n",
        "except Exception as e:\n",
        "    logging.error(\"Error reading file: %s\", e)"
      ],
      "metadata": {
        "colab": {
          "base_uri": "https://localhost:8080/"
        },
        "id": "JFzh3JKEPvsc",
        "outputId": "67b1fe08-5a32-4701-c0de-5c70e48f3f40"
      },
      "execution_count": 38,
      "outputs": [
        {
          "output_type": "stream",
          "name": "stderr",
          "text": [
            "ERROR:root:Error reading file: [Errno 2] No such file or directory: 'nofile.txt'\n"
          ]
        }
      ]
    }
  ]
}